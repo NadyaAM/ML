import os
import numpy as np
import pandas as pd
import matplotlib.pyplot as plt
from PIL import Image

# --- Конфигурация ---
DATA_DIR = './'  # Укажите путь к папке, куда вы скачали данные (или используйте относительный путь)
TRAIN_IMAGE_DIR = os.path.join(DATA_DIR, 'train_images')
TRAIN_LABEL_DIR = os.path.join(DATA_DIR, 'train_labels')
TEST_IMAGE_DIR = os.path.join(DATA_DIR, 'test_images')

# --- 1. Обзор данных ---
def get_data_info(image_dir, label_dir=None):
    """
    Собирает информацию о данных: количество изображений, размеры,
    наличие меток (если label_dir указан).
    """
    image_names = [f for f in os.listdir(image_dir) if f.endswith('.jpg')]
    num_images = len(image_names)

    image_sizes = []
    for image_name in image_names:
        image_path = os.path.join(image_dir, image_name)
        try:
            img = Image.open(image_path)
            image_sizes.append(img.size)
        except:
            print(f"Не удалось открыть изображение: {image_path}")

    image_widths = [size[0] for size in image_sizes]
    image_heights = [size[1] for size in image_sizes]
    image_sizes_df = pd.DataFrame({'width': image_widths, 'height': image_heights})

    info = {
        'num_images': num_images,
        'image_sizes_df': image_sizes_df,
    }

    if label_dir:
        label_names = [f for f in os.listdir(label_dir) if f.endswith('.png')]
        info['num_labels'] = len(label_names)
        if len(image_names) != len(label_names):
            print("Внимание: Количество изображений и меток не совпадает!")
    return info

train_info = get_data_info(TRAIN_IMAGE_DIR, TRAIN_LABEL_DIR)
test_info = get_data_info(TEST_IMAGE_DIR)

print("--- Информация о обучающих данных ---")
print(f"  Количество изображений: {train_info['num_images']}")
print(f"  Количество меток (масок): {train_info['num_labels']}")
print("  Размеры изображений:")
print(train_info['image_sizes_df'].describe())

print("\n--- Информация о тестовых данных ---")
print(f"  Количество изображений: {test_info['num_images']}")
print("  Размеры изображений:")
print(test_info['image_sizes_df'].describe())

# --- 2. Визуализация примеров изображений и масок (обучающие данные) ---
def display_images(image_dir, label_dir=None, num_images=3):
    """
    Отображает несколько случайных изображений и, при наличии, соответствующих масок.
    """
    image_names = [f for f in os.listdir(image_dir) if f.endswith('.jpg')]
    if len(image_names) == 0:
        print(f"В {image_dir} нет изображений .jpg")
        return
    if label_dir is not None:
        label_names = [f for f in os.listdir(label_dir) if f.endswith('.png')]
    else:
        label_names = [f.replace('.jpg', '.png') for f in image_names]

    num_display = min(num_images, len(image_names)) # ограничиваем число
    random_indices = np.random.choice(len(image_names), num_display, replace=False)
    fig, axes = plt.subplots(num_display, 2 if label_dir else 1, figsize=(10, 4 * num_display))

    for i, idx in enumerate(random_indices):
        image_name = image_names[idx]
        image_path = os.path.join(image_dir, image_name)
        try:
            img = Image.open(image_path)
        except:
            print(f"Не удалось открыть изображение: {image_path}")
            continue

        if label_dir:
            label_name = image_name.replace('.jpg', '.png')
            label_path = os.path.join(label_dir, label_name)
            try:
                mask = Image.open(label_path)
            except:
                print(f"Не удалось открыть маску: {label_path}")
                continue
            if num_display == 1:
                axes[0].imshow(img)
                axes[0].set_title(f"Image: {image_name}")
                axes[0].axis('off')
                axes[1].imshow(mask, cmap='gray')
                axes[1].set_title(f"Mask: {label_name}")
                axes[1].axis('off')
            else:
                axes[i, 0].imshow(img)
                axes[i, 0].set_title(f"Image: {image_name}")
                axes[i, 0].axis('off')
                axes[i, 1].imshow(mask, cmap='gray')
                axes[i, 1].set_title(f"Mask: {label_name}")
                axes[i, 1].axis('off')
        else: # нет меток
            if num_display == 1:
                axes.imshow(img)
                axes.set_title(f"Image: {image_name}")
                axes.axis('off')
            else:
                axes[i].imshow(img)
                axes[i].set_title(f"Image: {image_name}")
                axes[i].axis('off')

    plt.tight_layout()
    plt.show()

display_images(TRAIN_IMAGE_DIR, TRAIN_LABEL_DIR, num_images=4) # Показать 4 примера обучающих данных с масками
#display_images(TEST_IMAGE_DIR, num_images=3) # Показать 3 примера тестовых данных (без масок)

# --- 3.  Анализ масок облаков (обучающие данные) ---
def analyze_masks(label_dir):
    """
    Анализирует маски облаков: считает количество пикселей облаков на изображениях.
    """
    label_names = [f for f in os.listdir(label_dir) if f.endswith('.png')]
    cloud_pixels_counts = []
    for label_name in label_names:
        label_path = os.path.join(label_dir, label_name)
        try:
            mask = Image.open(label_path)
            mask_array = np.array(mask)
            cloud_pixels_counts.append(np.sum(mask_array > 0)) # предполагаем, что облака закодированы значениями > 0
        except:
            print(f"Не удалось открыть маску: {label_path}")

    cloud_pixels_counts_series = pd.Series(cloud_pixels_counts)
    print("\n--- Анализ масок ---")
    print("  Статистика по количеству пикселей облаков:")
    print(cloud_pixels_counts_series.describe())

    plt.hist(cloud_pixels_counts_series, bins=30)
    plt.xlabel("Количество пикселей облаков")
    plt.ylabel("Частота")
    plt.title("Распределение количества пикселей облаков")
    plt.show()

analyze_masks(TRAIN_LABEL_DIR)
